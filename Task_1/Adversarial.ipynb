{
 "cells": [
  {
   "cell_type": "markdown",
   "metadata": {},
   "source": [
    "Code for adversarial training"
   ]
  },
  {
   "cell_type": "code",
   "execution_count": 114,
   "metadata": {
    "colab": {
     "base_uri": "https://localhost:8080/"
    },
    "id": "ZeVKe_wedS-x",
    "outputId": "7231748f-731f-4afc-d44b-66322e2c54d7"
   },
   "outputs": [
    {
     "name": "stdout",
     "output_type": "stream",
     "text": [
      "Requirement already satisfied: PyWavelets in /usr/local/lib/python3.10/dist-packages (1.7.0)\n",
      "Requirement already satisfied: numpy<3,>=1.23 in /usr/local/lib/python3.10/dist-packages (from PyWavelets) (1.26.4)\n"
     ]
    }
   ],
   "source": [
    "!pip install PyWavelets\n"
   ]
  },
  {
   "cell_type": "code",
   "execution_count": 115,
   "metadata": {
    "colab": {
     "base_uri": "https://localhost:8080/"
    },
    "id": "CS_dC5VUd83K",
    "outputId": "2b11da53-e382-460a-dc84-a832d85acc54"
   },
   "outputs": [
    {
     "name": "stdout",
     "output_type": "stream",
     "text": [
      "Path to dataset files: /root/.cache/kagglehub/datasets/birdy654/cifake-real-and-ai-generated-synthetic-images/versions/3\n"
     ]
    }
   ],
   "source": [
    "import kagglehub\n",
    "\n",
    "# Download latest version\n",
    "path = kagglehub.dataset_download(\"birdy654/cifake-real-and-ai-generated-synthetic-images\")\n",
    "\n",
    "print(\"Path to dataset files:\", path)"
   ]
  },
  {
   "cell_type": "code",
   "execution_count": 116,
   "metadata": {
    "colab": {
     "base_uri": "https://localhost:8080/"
    },
    "id": "1Bm2fNyXd_FS",
    "outputId": "ffc4f1fe-3a73-451c-eeef-0215e7ef6a0b"
   },
   "outputs": [
    {
     "name": "stdout",
     "output_type": "stream",
     "text": [
      "mv: cannot move '/root/.cache/kagglehub/datasets/birdy654/cifake-real-and-ai-generated-synthetic-images/versions/3' to '/content/3': Directory not empty\n"
     ]
    }
   ],
   "source": [
    "! mv /root/.cache/kagglehub/datasets/birdy654/cifake-real-and-ai-generated-synthetic-images/versions/3 /content"
   ]
  },
  {
   "cell_type": "code",
   "execution_count": 117,
   "metadata": {
    "id": "rMQBlSwJeBDy"
   },
   "outputs": [],
   "source": [
    "import cv2\n",
    "import matplotlib.pyplot as plt\n",
    "import numpy as np\n",
    "import os\n",
    "import random\n",
    "import pywt\n",
    "\n",
    "from tensorflow.keras import layers, models\n",
    "from tensorflow.keras.models import Model\n",
    "from tensorflow.keras.callbacks import EarlyStopping, ReduceLROnPlateau\n",
    "from tensorflow.keras.preprocessing.image import ImageDataGenerator\n",
    "from tensorflow.keras.regularizers import l2\n",
    "from sklearn.preprocessing import StandardScaler\n",
    "import tensorflow as tf\n",
    "from sklearn.utils import shuffle\n"
   ]
  },
  {
   "cell_type": "code",
   "execution_count": null,
   "metadata": {
    "id": "NcYQ3WjdeDTa"
   },
   "outputs": [],
   "source": [
    "# Loading the images\n",
    "def load_balanced_images_from_directory(real_dir, fake_dir, label_real=0, label_fake=1, image_size=(32, 32), max_samples=50000):\n",
    "    real_images, fake_images = [], []\n",
    "\n",
    "    # Load REAL images\n",
    "    real_filenames = os.listdir(real_dir)\n",
    "    random.shuffle(real_filenames)\n",
    "    for filename in real_filenames[:max_samples]:  \n",
    "        img_path = os.path.join(real_dir, filename)\n",
    "        image = cv2.imread(img_path, cv2.IMREAD_GRAYSCALE)\n",
    "        if image is not None:\n",
    "            image = cv2.resize(image, image_size)  # Resize image\n",
    "            image = image / 255.0  # Normalize\n",
    "            real_images.append(image)\n",
    "\n",
    "    # Load FAKE images\n",
    "    fake_filenames = os.listdir(fake_dir)\n",
    "    random.shuffle(fake_filenames)\n",
    "    for filename in fake_filenames[:max_samples]:  \n",
    "        img_path = os.path.join(fake_dir, filename)\n",
    "        image = cv2.imread(img_path, cv2.IMREAD_GRAYSCALE)\n",
    "        if image is not None:\n",
    "            image = cv2.resize(image, image_size)  # Resize image\n",
    "            image = image / 255.0  # Normalize\n",
    "            fake_images.append(image)\n",
    "\n",
    "\n",
    "    images = np.array(real_images + fake_images)\n",
    "    labels = np.array([label_real] * len(real_images) + [label_fake] * len(fake_images))\n",
    "\n",
    "    return images, labels\n",
    "\n",
    "# Extract wavelet features from an image\n",
    "def extract_wavelet_features(image, wavelet='bior1.3'):\n",
    "    coeffs2 = pywt.dwt2(image, wavelet)\n",
    "    LL, (LH, HL, HH) = coeffs2  # Decompose into 4 sub-bands (LL, LH, HL, HH)\n",
    "\n",
    "    # Flatten each coefficient and concatenate them into a feature vector\n",
    "    LL_flat = LL.flatten()\n",
    "    LH_flat = LH.flatten()\n",
    "    HL_flat = HL.flatten()\n",
    "    HH_flat = HH.flatten()\n",
    "\n",
    "    features = np.concatenate([LL_flat, LH_flat, HL_flat, HH_flat])\n",
    "\n",
    "    return features\n",
    "\n",
    "# Extract wavelet features and stack them for multiple images\n",
    "def extract_features_and_stack(images, wavelet='bior1.3'):\n",
    "    all_features = []\n",
    "    for image in images:\n",
    "        features = extract_wavelet_features(image, wavelet)\n",
    "        all_features.append(features)\n",
    "\n",
    "    stacked_features = np.vstack(all_features)\n",
    "    return stacked_features"
   ]
  },
  {
   "cell_type": "code",
   "execution_count": null,
   "metadata": {
    "id": "ytPA1u0eeF0D"
   },
   "outputs": [],
   "source": [
    "from tensorflow.keras import layers, models\n",
    "from tensorflow.keras.models import Model\n",
    "\n",
    "def residual_block(x, filters, kernel_size=(3, 3), strides=(1, 1)):\n",
    "    \"\"\"\n",
    "    A simple residual block with a skip connection.\n",
    "    \"\"\"\n",
    "    shortcut = x\n",
    "    x = layers.Conv2D(filters, kernel_size, strides=strides, padding='same', activation='relu')(x)\n",
    "    x = layers.BatchNormalization()(x)\n",
    "    x = layers.Conv2D(filters, kernel_size, strides=strides, padding='same', activation='relu')(x)\n",
    "    x = layers.BatchNormalization()(x)\n",
    "\n",
    "    # Adding the skip connection (residual)\n",
    "    x = layers.add([x, shortcut])\n",
    "\n",
    "    return x\n",
    "\n",
    "def create_resnet_hybrid_model(input_shape_cnn, input_shape_wavelet):\n",
    "    \"\"\"\n",
    "    A simpler CNN + wavelet hybrid model with ResNet-like architecture and regularization.\n",
    "    \"\"\"\n",
    "    # CNN Branch (ResNet-like)\n",
    "    cnn_input = layers.Input(shape=input_shape_cnn)\n",
    "    x = layers.Conv2D(16, (3, 3), padding='same', activation='relu', kernel_regularizer=l2(1e-4))(cnn_input)\n",
    "    x = layers.BatchNormalization()(x)\n",
    "\n",
    "    \n",
    "    for _ in range(2):  \n",
    "        x = residual_block(x, 16)\n",
    "\n",
    "    x = layers.MaxPooling2D((2, 2))(x)\n",
    "\n",
    "    x = layers.Conv2D(32, (3, 3), padding='same', activation='relu', kernel_regularizer=l2(1e-4))(x)\n",
    "    x = layers.BatchNormalization()(x)\n",
    "\n",
    "    for _ in range(2):  \n",
    "        x = residual_block(x, 32)\n",
    "\n",
    "    x = layers.MaxPooling2D((2, 2))(x)\n",
    "\n",
    "    x = layers.Conv2D(64, (3, 3), padding='same', activation='relu', kernel_regularizer=l2(1e-4))(x)\n",
    "    x = layers.BatchNormalization()(x)\n",
    "\n",
    "    for _ in range(2):  \n",
    "        x = residual_block(x, 64)\n",
    "\n",
    "    x = layers.MaxPooling2D((2, 2))(x)\n",
    "\n",
    "    cnn_output = layers.Flatten()(x)\n",
    "\n",
    "    # Wavelet Branch (Fully connected)\n",
    "    wavelet_input = layers.Input(shape=input_shape_wavelet)\n",
    "    wavelet_output = layers.Dense(64, activation='relu', kernel_regularizer=l2(1e-4))(wavelet_input)\n",
    "    wavelet_output = layers.BatchNormalization()(wavelet_output)\n",
    "    wavelet_output = layers.Dropout(0.3)(wavelet_output)\n",
    "    wavelet_output = layers.Dense(32, activation='relu', kernel_regularizer=l2(1e-4))(wavelet_output)\n",
    "\n",
    "    # Combine CNN and wavelet features\n",
    "    combined = layers.concatenate([cnn_output, wavelet_output])\n",
    "\n",
    "    # Fully connected layers with dropout\n",
    "    combined_output = layers.Dense(32, activation='relu', kernel_regularizer=l2(1e-4))(combined)\n",
    "    combined_output = layers.Dropout(0.3)(combined_output)\n",
    "    combined_output = layers.Dense(1, activation='sigmoid')(combined_output)  # Sigmoid for binary classification\n",
    "\n",
    "    # Final model\n",
    "    model = Model(inputs=[cnn_input, wavelet_input], outputs=combined_output)\n",
    "\n",
    "    model.compile(optimizer='adam', loss='binary_crossentropy', metrics=['accuracy'])\n",
    "\n",
    "    return model\n"
   ]
  },
  {
   "cell_type": "code",
   "execution_count": 120,
   "metadata": {
    "id": "skaAIMBhh-YA"
   },
   "outputs": [],
   "source": [
    "def split_data(images, wavelet_features, labels, train_split=0.8):\n",
    "    # Shuffle the data\n",
    "    images, wavelet_features, labels = shuffle(images, wavelet_features, labels, random_state=42)\n",
    "\n",
    "    # Split the data into training and validation sets\n",
    "    split_idx = int(len(images) * train_split)\n",
    "\n",
    "    # Training data\n",
    "    train_images = images[:split_idx]\n",
    "    train_wavelet = wavelet_features[:split_idx]\n",
    "    train_labels = labels[:split_idx]\n",
    "\n",
    "    # Validation data\n",
    "    val_images = images[split_idx:]\n",
    "    val_wavelet = wavelet_features[split_idx:]\n",
    "    val_labels = labels[split_idx:]\n",
    "\n",
    "    return train_images, val_images, train_wavelet, val_wavelet, train_labels, val_labels\n"
   ]
  },
  {
   "cell_type": "code",
   "execution_count": null,
   "metadata": {
    "id": "chc-fWDfiAXU"
   },
   "outputs": [],
   "source": [
    "# FGSM method \n",
    "def generate_adversarial_example(model, image, wavelet_features, label, epsilon=0.1):\n",
    "    \"\"\"\n",
    "    Generate adversarial example for the CNN input using FGSM.\n",
    "    :param model: Trained hybrid model\n",
    "    :param image: Single image (CNN input)\n",
    "    :param wavelet_features: Corresponding wavelet features\n",
    "    :param label: True label for the image\n",
    "    :param epsilon: Perturbation factor\n",
    "    :return: Adversarial example for the CNN input\n",
    "    \"\"\"\n",
    "    # Convert inputs to tensors\n",
    "    image = tf.convert_to_tensor(image, dtype=tf.float32)\n",
    "    wavelet_features = tf.convert_to_tensor(wavelet_features, dtype=tf.float32)\n",
    "    label = tf.convert_to_tensor(label, dtype=tf.float32)\n",
    "\n",
    "    # Reshape label to match output shape (batch size of 1, with 1 prediction per batch)\n",
    "    label = tf.reshape(label, (1, 1))  # Model expects shape (batch_size, 1)\n",
    "\n",
    "    # Enable gradient calculation\n",
    "    image = tf.Variable(image)  # Make the image trainable\n",
    "\n",
    "    with tf.GradientTape() as tape:\n",
    "        tape.watch(image)  # Track gradients for the image\n",
    "        prediction = model([tf.expand_dims(image, axis=0), tf.expand_dims(wavelet_features, axis=0)])\n",
    "        loss = tf.keras.losses.binary_crossentropy(label, prediction)  # Compute loss\n",
    "\n",
    "    # Compute the gradient of the loss w.r.t. the image\n",
    "    gradient = tape.gradient(loss, image)\n",
    "\n",
    "    # Generate adversarial perturbation\n",
    "    perturbation = epsilon * tf.sign(gradient)\n",
    "\n",
    "    # Create adversarial example by adding perturbation to the image\n",
    "    adversarial_image = image + perturbation\n",
    "\n",
    "    # Clip pixel values to ensure valid range [0, 1]\n",
    "    adversarial_image = tf.clip_by_value(adversarial_image, 0.0, 1.0)\n",
    "\n",
    "\n",
    "    return adversarial_image.numpy()  # Return as numpy array\n"
   ]
  },
  {
   "cell_type": "code",
   "execution_count": 122,
   "metadata": {
    "id": "_uvqbnY6iC12"
   },
   "outputs": [],
   "source": [
    "# Enable mixed precision for faster training\n",
    "from tensorflow.keras.mixed_precision import set_global_policy\n",
    "set_global_policy('mixed_float16')  # Leverages GPU tensor core"
   ]
  },
  {
   "cell_type": "code",
   "execution_count": null,
   "metadata": {
    "id": "XAviseDIiEnY"
   },
   "outputs": [],
   "source": [
    "# Adversarial Training\n",
    "\n",
    "def train_with_adversarial(model, train_images, train_wavelet, train_labels, val_images, val_wavelet, val_labels, epochs=5, batch_size=64, epsilon=0.1):\n",
    "    \"\"\"\n",
    "    Train the hybrid model with adversarial examples.\n",
    "    :param model: Hybrid model\n",
    "    :param train_images: Training images for CNN branch\n",
    "    :param train_wavelet: Wavelet features for training\n",
    "    :param train_labels: Training labels\n",
    "    :param val_images: Validation images for CNN branch\n",
    "    :param val_wavelet: Wavelet features for validation\n",
    "    :param val_labels: Validation labels\n",
    "    :param epochs: Number of training epochs\n",
    "    :param batch_size: Training batch size\n",
    "    :param epsilon: Perturbation factor for adversarial examples\n",
    "    \"\"\"\n",
    "    optimizer = tf.keras.optimizers.Adam()\n",
    "    loss_fn = tf.keras.losses.BinaryCrossentropy()\n",
    "\n",
    "    for epoch in range(epochs):\n",
    "        print(f\"\\nEpoch {epoch + 1}/{epochs}\")\n",
    "\n",
    "        # Shuffle the data\n",
    "        indices = np.random.permutation(len(train_images))\n",
    "        train_images = train_images[indices]\n",
    "        train_wavelet = train_wavelet[indices]\n",
    "        train_labels = train_labels[indices]\n",
    "\n",
    "        # Process data in batches\n",
    "        for i in range(0, len(train_images), batch_size):\n",
    "            # Select the batch\n",
    "            batch_images = train_images[i:i + batch_size]\n",
    "            batch_wavelet = train_wavelet[i:i + batch_size]\n",
    "            batch_labels = train_labels[i:i + batch_size]\n",
    "\n",
    "            # Generate adversarial examples for the batch\n",
    "            adv_images = np.array([\n",
    "                generate_adversarial_example(model, img, wavelet, lbl, epsilon)\n",
    "                for img, wavelet, lbl in zip(batch_images, batch_wavelet, batch_labels)\n",
    "            ])\n",
    "\n",
    "            with tf.GradientTape() as tape:\n",
    "                # Compute predictions for clean and adversarial inputs\n",
    "                clean_output = model([batch_images, batch_wavelet])\n",
    "                adv_output = model([adv_images, batch_wavelet])\n",
    "\n",
    "                # Compute loss for both clean and adversarial inputs\n",
    "                clean_loss = loss_fn(batch_labels, clean_output)\n",
    "                adv_loss = loss_fn(batch_labels, adv_output)\n",
    "\n",
    "                # Combine the losses\n",
    "                total_loss = clean_loss + adv_loss\n",
    "\n",
    "            # Update model weights\n",
    "            grads = tape.gradient(total_loss, model.trainable_variables)\n",
    "            optimizer.apply_gradients(zip(grads, model.trainable_variables))\n",
    "\n",
    "        # Evaluate on validation data\n",
    "        val_loss, val_acc = model.evaluate([val_images, val_wavelet], val_labels, verbose=0)\n",
    "        print(f\"Validation Loss: {val_loss:.4f}, Validation Accuracy: {val_acc:.4f}\")\n"
   ]
  },
  {
   "cell_type": "code",
   "execution_count": 124,
   "metadata": {
    "id": "bMB2owJliGku"
   },
   "outputs": [],
   "source": [
    "# Load images from directories\n",
    "real_dir = '/content/3/train/REAL'\n",
    "fake_dir = '/content/3/train/FAKE'\n",
    "images, labels = load_balanced_images_from_directory(real_dir, fake_dir)\n",
    "\n",
    "# Extract wavelet features\n",
    "stacked_wavelet_features = extract_features_and_stack(images)\n",
    "\n",
    "# Split data into train and validation sets\n",
    "train_images, val_images, train_wavelet, val_wavelet, train_labels, val_labels = split_data(images, stacked_wavelet_features, labels)\n",
    "\n",
    "# Reshape images for CNN input\n",
    "train_images = train_images.reshape(train_images.shape[0], 32, 32, 1)\n",
    "val_images = val_images.reshape(val_images.shape[0], 32, 32, 1)\n",
    "\n",
    "# Define input shapes\n",
    "input_shape_cnn = train_images.shape[1:]\n",
    "input_shape_wavelet = (stacked_wavelet_features.shape[1],)\n",
    "\n",
    "# Create the hybrid model\n",
    "model = create_resnet_hybrid_model(input_shape_cnn, input_shape_wavelet)\n",
    "\n",
    "\n"
   ]
  },
  {
   "cell_type": "code",
   "execution_count": null,
   "metadata": {
    "colab": {
     "base_uri": "https://localhost:8080/"
    },
    "id": "lMwpm_uTiK9u",
    "outputId": "62434b73-7d03-4c7d-b83f-bac744075b62"
   },
   "outputs": [
    {
     "name": "stdout",
     "output_type": "stream",
     "text": [
      "Adversarial example generation took 0.13107919692993164 seconds\n"
     ]
    }
   ],
   "source": [
    "# Checking how the adversarial FGSM function performs\n",
    "import time\n",
    "start_time = time.time()\n",
    "_ = generate_adversarial_example(model, train_images[0], train_wavelet[0], train_labels[0], epsilon=0.1)\n",
    "print(f\"Adversarial example generation took {time.time() - start_time} seconds\")\n"
   ]
  },
  {
   "cell_type": "code",
   "execution_count": null,
   "metadata": {
    "id": "U7zVuz78i-A2"
   },
   "outputs": [],
   "source": [
    "# Compiling model and setting its hyperparameters\n",
    "\n",
    "def train_with_adversarial(model, train_images, train_wavelet, train_labels,\n",
    "                           val_images, val_wavelet, val_labels,\n",
    "                           epochs=5, batch_size=64, epsilon=0.1):\n",
    "    # Prepare adversarial examples here (ensure this step is correct in your implementation)\n",
    "\n",
    "    # Compile the model (if not already compiled)\n",
    "    model.compile(optimizer='adam',\n",
    "                  loss='binary_crossentropy',\n",
    "                  metrics=['accuracy'])\n",
    "\n",
    "    # Combine wavelet features with images (adjust based on your architecture)\n",
    "    train_data = [train_images, train_wavelet]\n",
    "    val_data = [val_images, val_wavelet]\n",
    "\n",
    "    # Train the model and capture the history\n",
    "    history = model.fit(\n",
    "        train_data, train_labels,\n",
    "        validation_data=(val_data, val_labels),\n",
    "        epochs=epochs,\n",
    "        batch_size=batch_size\n",
    "    )\n",
    "\n",
    "    return history\n"
   ]
  },
  {
   "cell_type": "code",
   "execution_count": null,
   "metadata": {
    "colab": {
     "base_uri": "https://localhost:8080/"
    },
    "id": "v_I8bWbxjBmR",
    "outputId": "c6141c81-50a2-4485-83ef-783c4fae3b0d"
   },
   "outputs": [
    {
     "name": "stdout",
     "output_type": "stream",
     "text": [
      "Epoch 1/5\n",
      "\u001b[1m1250/1250\u001b[0m \u001b[32m━━━━━━━━━━━━━━━━━━━━\u001b[0m\u001b[37m\u001b[0m \u001b[1m40s\u001b[0m 14ms/step - accuracy: 0.8306 - loss: 0.4821 - val_accuracy: 0.9165 - val_loss: 0.2343\n",
      "Epoch 2/5\n",
      "\u001b[1m1250/1250\u001b[0m \u001b[32m━━━━━━━━━━━━━━━━━━━━\u001b[0m\u001b[37m\u001b[0m \u001b[1m14s\u001b[0m 11ms/step - accuracy: 0.9207 - loss: 0.2296 - val_accuracy: 0.9273 - val_loss: 0.2068\n",
      "Epoch 3/5\n",
      "\u001b[1m1250/1250\u001b[0m \u001b[32m━━━━━━━━━━━━━━━━━━━━\u001b[0m\u001b[37m\u001b[0m \u001b[1m14s\u001b[0m 11ms/step - accuracy: 0.9322 - loss: 0.2005 - val_accuracy: 0.9312 - val_loss: 0.2006\n",
      "Epoch 4/5\n",
      "\u001b[1m1250/1250\u001b[0m \u001b[32m━━━━━━━━━━━━━━━━━━━━\u001b[0m\u001b[37m\u001b[0m \u001b[1m14s\u001b[0m 11ms/step - accuracy: 0.9370 - loss: 0.1860 - val_accuracy: 0.8850 - val_loss: 0.2969\n",
      "Epoch 5/5\n",
      "\u001b[1m1250/1250\u001b[0m \u001b[32m━━━━━━━━━━━━━━━━━━━━\u001b[0m\u001b[37m\u001b[0m \u001b[1m14s\u001b[0m 11ms/step - accuracy: 0.9428 - loss: 0.1739 - val_accuracy: 0.9420 - val_loss: 0.1661\n"
     ]
    }
   ],
   "source": [
    "#Training \n",
    "\n",
    "history = train_with_adversarial(\n",
    "    model,\n",
    "    train_images,\n",
    "    train_wavelet,\n",
    "    train_labels,\n",
    "    val_images,\n",
    "    val_wavelet,\n",
    "    val_labels,\n",
    "    epochs=5,\n",
    "    batch_size=64,\n",
    "    epsilon=0.1,\n",
    ")\n"
   ]
  },
  {
   "cell_type": "code",
   "execution_count": 129,
   "metadata": {
    "colab": {
     "base_uri": "https://localhost:8080/",
     "height": 957
    },
    "id": "Cx0HUGXOjFOJ",
    "outputId": "ba756290-3eae-4c58-c3ab-a9cbc314626a"
   },
   "outputs": [
    {
     "data": {
      "image/png": "[encoded data removed]",
      "text/plain": [
       "<Figure size 1000x500 with 1 Axes>"
      ]
     },
     "metadata": {},
     "output_type": "display_data"
    },
    {
     "data": {
      "image/png": "[encoded data removed]",
      "text/plain": [
       "<Figure size 1000x500 with 1 Axes>"
      ]
     },
     "metadata": {},
     "output_type": "display_data"
    }
   ],
   "source": [
    "import matplotlib.pyplot as plt\n",
    "\n",
    "# Plot training and validation accuracy\n",
    "plt.figure(figsize=(10, 5))\n",
    "plt.plot(history.history['accuracy'], label='Training Accuracy')\n",
    "plt.plot(history.history['val_accuracy'], label='Validation Accuracy')\n",
    "plt.title('Model Accuracy')\n",
    "plt.xlabel('Epochs')\n",
    "plt.ylabel('Accuracy')\n",
    "plt.legend()\n",
    "plt.show()\n",
    "\n",
    "# Plot training and validation loss\n",
    "plt.figure(figsize=(10, 5))\n",
    "plt.plot(history.history['loss'], label='Training Loss')\n",
    "plt.plot(history.history['val_loss'], label='Validation Loss')\n",
    "plt.title('Model Loss')\n",
    "plt.xlabel('Epochs')\n",
    "plt.ylabel('Loss')\n",
    "plt.legend()\n",
    "plt.show()\n"
   ]
  },
  {
   "cell_type": "markdown",
   "metadata": {},
   "source": [
    "Testing on the CIFAKE's test dataset"
   ]
  },
  {
   "cell_type": "code",
   "execution_count": 130,
   "metadata": {
    "id": "aGh-VAJzkx4X"
   },
   "outputs": [],
   "source": [
    "# Define the test directories\n",
    "test_real_dir = '/content/3/test/REAL'\n",
    "test_fake_dir = '/content/3/test/FAKE'\n",
    "\n",
    "# Load test images and labels\n",
    "test_images, test_labels = load_balanced_images_from_directory(test_real_dir, test_fake_dir)\n",
    "\n",
    "# Extract wavelet features for the test set\n",
    "test_wavelet_features = extract_features_and_stack(test_images)\n",
    "\n",
    "# Reshape images for CNN input\n",
    "test_images = test_images.reshape(test_images.shape[0], 32, 32, 1)\n"
   ]
  },
  {
   "cell_type": "code",
   "execution_count": 131,
   "metadata": {
    "colab": {
     "base_uri": "https://localhost:8080/"
    },
    "id": "SAk1x5Pak3pI",
    "outputId": "8a22acad-58e6-4a7e-9668-e34cc666e3e5"
   },
   "outputs": [
    {
     "name": "stdout",
     "output_type": "stream",
     "text": [
      "\u001b[1m625/625\u001b[0m \u001b[32m━━━━━━━━━━━━━━━━━━━━\u001b[0m\u001b[37m\u001b[0m \u001b[1m2s\u001b[0m 4ms/step - accuracy: 0.9408 - loss: 0.1651\n",
      "Test Loss: 0.1658, Test Accuracy: 0.9427\n"
     ]
    }
   ],
   "source": [
    "# Evaluate the model on the test set\n",
    "test_loss, test_accuracy = model.evaluate([test_images, test_wavelet_features], test_labels, verbose=1)\n",
    "print(f\"Test Loss: {test_loss:.4f}, Test Accuracy: {test_accuracy:.4f}\")\n"
   ]
  },
  {
   "cell_type": "code",
   "execution_count": 137,
   "metadata": {
    "colab": {
     "base_uri": "https://localhost:8080/"
    },
    "id": "0yMmrC9Wk740",
    "outputId": "4396540c-db4e-4738-c55a-4f9066373a6d"
   },
   "outputs": [
    {
     "name": "stdout",
     "output_type": "stream",
     "text": [
      "\u001b[1m625/625\u001b[0m \u001b[32m━━━━━━━━━━━━━━━━━━━━\u001b[0m\u001b[37m\u001b[0m \u001b[1m5s\u001b[0m 7ms/step\n",
      "              precision    recall  f1-score   support\n",
      "\n",
      "        REAL       0.95      0.94      0.94     10000\n",
      "        FAKE       0.94      0.95      0.94     10000\n",
      "\n",
      "    accuracy                           0.94     20000\n",
      "   macro avg       0.94      0.94      0.94     20000\n",
      "weighted avg       0.94      0.94      0.94     20000\n",
      "\n"
     ]
    }
   ],
   "source": [
    "from sklearn.metrics import confusion_matrix, classification_report\n",
    "import seaborn as sns\n",
    "\n",
    "# Predict on test data\n",
    "test_predictions = model.predict([test_images, test_wavelet_features])\n",
    "test_predictions = (test_predictions > 0.5).astype(int).flatten()  # Convert probabilities to binary\n",
    "\n",
    "# Generate the confusion matrix\n",
    "conf_matrix = confusion_matrix(test_labels, test_predictions)\n",
    "\n",
    "# Print the classification report\n",
    "print(classification_report(test_labels, test_predictions, target_names=[\"REAL\", \"FAKE\"]))\n"
   ]
  },
  {
   "cell_type": "code",
   "execution_count": 138,
   "metadata": {
    "colab": {
     "base_uri": "https://localhost:8080/",
     "height": 564
    },
    "id": "UvcF4Fczk_a6",
    "outputId": "9c3e62ea-7363-4cb3-c532-a5c023d6eaca"
   },
   "outputs": [
    {
     "data": {
      "image/png": "[encoded data removed]",
      "text/plain": [
       "<Figure size 800x600 with 2 Axes>"
      ]
     },
     "metadata": {},
     "output_type": "display_data"
    }
   ],
   "source": [
    "# Plot the confusion matrix\n",
    "plt.figure(figsize=(8, 6))\n",
    "sns.heatmap(conf_matrix, annot=True, fmt='d', cmap='Blues', xticklabels=[\"REAL\", \"FAKE\"], yticklabels=[\"REAL\", \"FAKE\"])\n",
    "plt.xlabel('Predicted')\n",
    "plt.ylabel('Actual')\n",
    "plt.title('Confusion Matrix')\n",
    "plt.show()\n"
   ]
  },
  {
   "cell_type": "markdown",
   "metadata": {},
   "source": [
    "Testing on CIFar-10 dataset(all real images)"
   ]
  },
  {
   "cell_type": "code",
   "execution_count": 147,
   "metadata": {
    "colab": {
     "base_uri": "https://localhost:8080/"
    },
    "id": "FXpfmrbWwYeK",
    "outputId": "90af576a-f352-4b87-f58e-017e0b081382"
   },
   "outputs": [
    {
     "name": "stdout",
     "output_type": "stream",
     "text": [
      "Downloading data from https://www.cs.toronto.edu/~kriz/cifar-10-python.tar.gz\n",
      "\u001b[1m170498071/170498071\u001b[0m \u001b[32m━━━━━━━━━━━━━━━━━━━━\u001b[0m\u001b[37m\u001b[0m \u001b[1m5s\u001b[0m 0us/step\n",
      "\u001b[1m313/313\u001b[0m \u001b[32m━━━━━━━━━━━━━━━━━━━━\u001b[0m\u001b[37m\u001b[0m \u001b[1m3s\u001b[0m 10ms/step\n",
      "Accuracy: 0.9306\n"
     ]
    }
   ],
   "source": [
    "# Preprocessing Pipline\n",
    "def extract_wavelet_features(image, wavelet='bior1.3'):\n",
    "    coeffs2 = pywt.dwt2(image, wavelet)\n",
    "    LL, (LH, HL, HH) = coeffs2  # Decompose into 4 sub-bands (LL, LH, HL, HH)\n",
    "\n",
    "    # Flatten each coefficient and concatenate them into a feature vector\n",
    "    LL_flat = LL.flatten()\n",
    "    LH_flat = LH.flatten()\n",
    "    HL_flat = HL.flatten()\n",
    "    HH_flat = HH.flatten()\n",
    "\n",
    "    features = np.concatenate([LL_flat, LH_flat, HL_flat, HH_flat])\n",
    "\n",
    "    return features\n",
    "\n",
    "def extract_features_and_stack(images, wavelet='bior1.3'):\n",
    "    all_features = []\n",
    "    for image in images:\n",
    "        features = extract_wavelet_features(image, wavelet)\n",
    "        all_features.append(features)\n",
    "\n",
    "    stacked_features = np.vstack(all_features)\n",
    "    return stacked_features\n",
    "\n",
    "# Load CIFAR-10 data\n",
    "(train_data, train_labels), (test_data, test_labels) = tf.keras.datasets.cifar10.load_data()\n",
    "\n",
    "# CIFAR-10 images are RGB, but the model expects grayscale images, so we need to convert them.\n",
    "def rgb_to_grayscale(images):\n",
    "    return np.dot(images[...,:3], [0.2989, 0.5870, 0.1140])  # Convert RGB to grayscale\n",
    "\n",
    "# Convert CIFAR-10 test data to grayscale\n",
    "test_images_grayscale = rgb_to_grayscale(test_data)\n",
    "\n",
    "# Resize CIFAR-10 test images to match the expected input size (32x32)\n",
    "test_images_resized = np.array([cv2.resize(image, (32, 32)) for image in test_images_grayscale])\n",
    "\n",
    "# Normalize the pixel values to [0, 1]\n",
    "test_images_resized = test_images_resized / 255.0\n",
    "\n",
    "# Extract wavelet features for the test images\n",
    "stacked_wavelet_features_test = extract_features_and_stack(test_images_resized)\n",
    "\n",
    "# Reshape CNN input (test images) and wavelet input (test features)\n",
    "cnn_input_images_test = test_images_resized.reshape(test_images_resized.shape[0], 32, 32, 1)  # Add channel dimension for CNN\n",
    "wavelet_input_features_test = stacked_wavelet_features_test  # These are the wavelet features already stacked\n",
    "\n",
    "# Perform predictions using the model\n",
    "test_predictions = model.predict([cnn_input_images_test, wavelet_input_features_test])\n",
    "\n",
    "# Convert predictions to binary (REAL: 0, FAKE: 1)\n",
    "test_predictions_binary = (test_predictions > 0.5).astype(int)\n",
    "\n",
    "count=0\n",
    "for i in test_predictions_binary:\n",
    "    if i==0:\n",
    "        count=count+1\n",
    "\n",
    "print(\"Accuracy:\",count/len(test_images_grayscale))\n"
   ]
  }
 ],
 "metadata": {
  "accelerator": "GPU",
  "colab": {
   "gpuType": "T4",
   "provenance": []
  },
  "kernelspec": {
   "display_name": "Python 3",
   "name": "python3"
  },
  "language_info": {
   "name": "python"
  }
 },
 "nbformat": 4,
 "nbformat_minor": 0
}
